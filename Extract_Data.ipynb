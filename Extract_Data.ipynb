{
 "cells": [
  {
   "cell_type": "code",
   "execution_count": null,
   "id": "palestinian-christmas",
   "metadata": {},
   "outputs": [],
   "source": [
    "import pandas as pd\n",
    "import zipfile\n",
    "import glob\n",
    "from ast import literal_eval\n",
    "from itertools import product\n",
    "from functions3 import*\n",
    "import numpy as np\n",
    "from multiprocessing import Pool"
   ]
  },
  {
   "cell_type": "code",
   "execution_count": null,
   "id": "dependent-consequence",
   "metadata": {},
   "outputs": [],
   "source": [
    "%%time\n",
    "Z = []\n",
    "F = []\n",
    "params = []\n",
    "\n",
    "for Z in glob.glob(\"D:/COVID-19/20*.zip\"):\n",
    "    zf = zipfile.ZipFile(Z)\n",
    "    F = [ f for f in zf.namelist() ] \n",
    "    params += list( product([Z],F) )\n",
    "params2 = []\n",
    "for i,p in enumerate(params):\n",
    "    params2.append( (i,) + p)\n",
    "params = params2"
   ]
  },
  {
   "cell_type": "code",
   "execution_count": null,
   "id": "otherwise-export",
   "metadata": {},
   "outputs": [],
   "source": [
    "if __name__ == \"__main__\":\n",
    "    pool = Pool(24)\n",
    "    df = pool.map(get_kpop, params)\n",
    "    pool.close()\n",
    "    pool.join()"
   ]
  },
  {
   "cell_type": "code",
   "execution_count": null,
   "id": "reasonable-victory",
   "metadata": {},
   "outputs": [],
   "source": [
    "if __name__ == \"__main__\":\n",
    "    pool = Pool(24)\n",
    "    df = pool.map(get_wearmask, params)\n",
    "    pool.close()\n",
    "    pool.join()"
   ]
  },
  {
   "cell_type": "code",
   "execution_count": null,
   "id": "becoming-distribution",
   "metadata": {},
   "outputs": [],
   "source": [
    "if __name__ == \"__main__\":\n",
    "    pool = Pool(24)\n",
    "    df = pool.map(get_no_mask, params)\n",
    "    pool.close()\n",
    "    pool.join()"
   ]
  },
  {
   "cell_type": "code",
   "execution_count": null,
   "id": "photographic-glance",
   "metadata": {},
   "outputs": [],
   "source": [
    "if __name__ == \"__main__\":\n",
    "    pool = Pool(24)\n",
    "    df = pool.map(get_tedros, params)\n",
    "    pool.close()\n",
    "    pool.join()"
   ]
  },
  {
   "cell_type": "code",
   "execution_count": null,
   "id": "novel-option",
   "metadata": {},
   "outputs": [],
   "source": [
    "%%time\n",
    "if __name__ == \"__main__\":\n",
    "    pool = Pool(24)\n",
    "    df = pool.map(get_health_agencies, params)\n",
    "    pool.close()\n",
    "    pool.join()"
   ]
  },
  {
   "cell_type": "code",
   "execution_count": null,
   "id": "connected-giving",
   "metadata": {},
   "outputs": [],
   "source": [
    "if __name__ == \"__main__\":\n",
    "    pool = Pool(24)\n",
    "    df = pool.map(get_state_count, params)\n",
    "    pool.close()\n",
    "    pool.join()"
   ]
  },
  {
   "cell_type": "code",
   "execution_count": null,
   "id": "tight-landing",
   "metadata": {},
   "outputs": [],
   "source": []
  },
  {
   "cell_type": "code",
   "execution_count": null,
   "id": "challenging-lingerie",
   "metadata": {},
   "outputs": [],
   "source": []
  },
  {
   "cell_type": "code",
   "execution_count": null,
   "id": "direct-samoa",
   "metadata": {},
   "outputs": [],
   "source": []
  }
 ],
 "metadata": {
  "kernelspec": {
   "display_name": "Python 3",
   "language": "python",
   "name": "python3"
  },
  "language_info": {
   "codemirror_mode": {
    "name": "ipython",
    "version": 3
   },
   "file_extension": ".py",
   "mimetype": "text/x-python",
   "name": "python",
   "nbconvert_exporter": "python",
   "pygments_lexer": "ipython3",
   "version": "3.7.7"
  }
 },
 "nbformat": 4,
 "nbformat_minor": 5
}
